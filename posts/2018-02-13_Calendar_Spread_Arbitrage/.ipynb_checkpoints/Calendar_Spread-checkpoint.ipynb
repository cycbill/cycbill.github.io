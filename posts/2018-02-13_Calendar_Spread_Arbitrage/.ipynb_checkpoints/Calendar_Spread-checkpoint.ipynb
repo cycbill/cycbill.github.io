{
 "cells": [
  {
   "cell_type": "markdown",
   "metadata": {},
   "source": [
    "## (2) More Realistic Case of Calendar Spread Arbitrage"
   ]
  },
  {
   "cell_type": "markdown",
   "metadata": {},
   "source": [
    "In the previous section, we assume the forward price to be constant, in order to simplify our hedging scenario analysis. However, in reality, forward price won't be constant. Assume at time $t$, the current stock price is $S_t$, risk-free interest rate is $r_t$, and the stock has porportional dividend payment rate is $q_t$. By no-arbitrage theory, the forward price viewed from time $t$ to time $T$ is $F_t^T=S_t \\int_{t}^{T} (r_s-\\delta_s)ds$."
   ]
  },
  {
   "cell_type": "markdown",
   "metadata": {},
   "source": [
    "For a call option that has strike $K$ and maturity $\\tau=T-t$, its option price will be $C_t(K,T)$. The Black-Scholes formula of the call option is:\n",
    "\n",
    "$$C_t^{BS}(K,T)=e^{-\\int_t^T \\delta_s ds}S_t\\phi(\\bar{d}_1) - e^{-\\int_t^T r_s ds}K\\phi(\\bar{d}_2), $$\n",
    "\n",
    "where:\n",
    "\n",
    "$$\\bar{d}_1 = \\frac{\\ln(\\frac{S_t}{K}) + \\int_t^T(r_s-\\delta_s)ds + \\frac{1}{2}\\hat{\\sigma}^2\\tau}{\\sigma\\sqrt{\\tau}},$$\n",
    "\n",
    "$$\\bar{d}_2 = \\bar{d}_1 - \\sigma\\sqrt{\\tau}.$$"
   ]
  },
  {
   "cell_type": "markdown",
   "metadata": {},
   "source": [
    "At time $t$, construct a calendar spread with the same forward-moneyness: $K_1=e^{\\int_{T_1}^{T_2}(\\delta_s-r_s)ds}K_2$, the value of calendar spread portfolio is:\n",
    "\n",
    "$$\\mathbf{P}_t = C_t(K_2,T_2) - e^{-\\int_{T_1}^{T_2}\\delta_s ds}C_t(K_1,T_1).$$"
   ]
  },
  {
   "cell_type": "markdown",
   "metadata": {},
   "source": [
    "At time $T_1$, the portfolio is:\n",
    "\n",
    "$$\\mathbf{P}_{T_1} = C_{T_1}(K_2,T_2) - e^{-\\int_{T_1}^{T_2}\\delta_s ds}C_{T_1}(K_1,T_1).$$\n",
    "\n",
    "As $C_{T_1}(K_1,T_1) = (S_{T_1} - K_1)^{+}$ and $K_1=e^{\\int_{T_1}^{T_2}(\\delta_s-r_s)ds}K_2$, so when $S_{T_1}\\geq K_1$,\n",
    "\n",
    "\\begin{align}\n",
    "\\mathbf{P}_{T_1} & = C_{T_1}(K_2,T_2) - e^{-\\int_{T_1}^{T_2}\\delta_s ds} (S_{T_1} - K_1) \\\\\n",
    "& = C_{T_1}(K_2,T_2) - e^{-\\int_{T_1}^{T_2}\\delta_s ds} (S_{T_1} - e^{\\int_{T_1}^{T_2}(\\delta_s-r_s)ds}K_2) \\\\\n",
    "& =C_{T_1}(K_2,T_2) - e^{-\\int_{T_1}^{T_2}r_s ds} (F_{T_1}^{T_2} - K_2) \\\\\n",
    "& = P_{T_1}(K_2,T_2) \\geq 0,\n",
    "\\end{align}\n",
    "in which $P_{T_1}(K_2,T_2)$ is the put option value at time $T_1$ by call-put parity, and should be larger than or equal to zero."
   ]
  },
  {
   "cell_type": "markdown",
   "metadata": {},
   "source": [
    "So we need to make sure that $\\mathbf{P}_{T_1} \\geq 0$, or equivalent to make sure $C_{T_1}(K_2,T_2) \\geq e^{-\\int_{T_1}^{T_2}\\delta_s ds} (S_{T_1} - K_1)$."
   ]
  },
  {
   "cell_type": "markdown",
   "metadata": {},
   "source": [
    "Define a function\n",
    "\n",
    "$$f(\\kappa,\\nu^2)=\\frac{e^{\\int_{t}{T}r_s ds}C_t^{BS}(K,T)}{K} = \\kappa^{-1}\\phi(\\bar{d}_1)-\\phi(\\bar{d}_2),$$\n",
    "\n",
    "for a fixed $\\kappa$, the condition $C_{T_1}(K_2,T_2) \\geq e^{-\\int_{T_1}^{T_2}\\delta_s ds} (S_{T_1} - K_1)$ is equavalent to that function $f(\\kappa, \\nu^2(\\kappa,T))$ is an increasing function against $T$. To show this is true, we first prove that $f$ is an increasing function of $\\nu^2$, and then claim that we only need to make sure $\\nu^2(T)$ is an increasing function of $T$."
   ]
  },
  {
   "cell_type": "markdown",
   "metadata": {},
   "source": [
    "Take the derivative of function $f$ against $\\nu^2$, we get\n",
    "\n",
    "$$\\frac{\\partial f}{\\partial \\nu^2} = \\frac{\\partial[\\kappa^{-1}\\phi(\\bar{d}_1)-\\phi(\\bar{d}_2)]}{\\partial \\nu^2} = \\kappa^{-1}\\varphi(\\bar{d}_1)\\frac{\\partial \\bar{d}_1}{\\partial \\nu^2}-\\varphi(\\bar{d}_2)\\frac{\\partial \\bar{d}_2}{\\partial \\nu^2}.$$\n",
    "\n",
    "As $\\bar{d}_2) = \\bar{d}_1) - \\sigma\\sqrt{T}$, the derivative $\\frac{\\partial \\bar{d}_2}{\\partial \\nu^2} = \\frac{\\partial \\bar{d}_1}{\\partial \\nu^2}-\\frac{1}{2\\sqrt{\\nu^2}}$, so \n",
    "\n",
    "$$\\frac{\\partial f}{\\partial \\nu^2} =\\left[\\kappa^{-1}\\varphi(\\bar{d}_1) - \\varphi(\\bar{d}_2)\\right]\\frac{\\partial \\bar{d}_1}{\\partial \\nu^2} + \\frac{1}{2\\sqrt{\\nu^2}}\\varphi(\\bar{d}_2).$$\n",
    "\n",
    "We can further simply the derivative function, as\n",
    "\n",
    "\\begin{align}\n",
    "\\kappa^{-1}\\varphi(\\bar{d}_1) &= \\frac{\\kappa^{-1}}{\\sqrt{2\\pi}}\\exp \\left(-\\frac{\\bar{d}_1^2}{2}\\right) \\\\\n",
    "& = \\frac{\\kappa^{-1}}{\\sqrt{2\\pi}}\\exp \\left[-\\frac{\\left( \\ln(\\frac{F_t^T}{K})+\\frac{1}{2}\\nu^2\\right)^2}{2\\nu^2} \\right] \\\\\n",
    "& = \\frac{\\kappa^{-1}}{\\sqrt{2\\pi}}\\exp \\left[-\\frac{ (\\ln\\frac{F_t^T}{K})^2 + \\nu^2\\ln(\\frac{F_t^T}{K}) +(\\frac{1}{2}\\nu^2)^2}{2\\nu^2} \\right] \\\\\n",
    "& = \\frac{1}{\\sqrt{2\\pi}}\\exp \\left[\\ln(\\frac{F_t^T}{K}) -\\frac{ (\\ln\\frac{F_t^T}{K})^2 + \\nu^2\\ln(\\frac{F_t^T}{K}) +(\\frac{1}{2}\\nu^2)^2}{2\\nu^2} \\right] \\\\\n",
    "& = \\frac{\\kappa^{-1}}{\\sqrt{2\\pi}}\\exp \\left[-\\frac{\\left( \\ln(\\frac{F_t^T}{K})-\\frac{1}{2}\\nu^2\\right)^2}{2\\nu^2} \\right] \\\\\n",
    "& = \\varphi(\\bar{d}_2),\n",
    "\\end{align}\n",
    "\n",
    "So $\\frac{\\partial f}{\\partial \\nu^2} = \\frac{1}{2\\sqrt{\\nu^2}}\\varphi(\\bar{d}_2) \\geq 0$ which means function $f$ is an monotonously non-decreasing function against $\\nu^2$."
   ]
  },
  {
   "cell_type": "markdown",
   "metadata": {},
   "source": [
    "Thus, to make $f(\\kappa,\\nu^2(\\kappa, T))$ to be a non-decreasing function, we only need to make sure $\\nu^2(\\kappa,T)$ is an non-decreasing function against $T$, i.e. \n",
    "\n",
    "$$\\nu^2(\\kappa, T_2) \\geq \\nu^2(\\kappa, T_1), \\qquad \\mbox{for all} \\; T_2 \\geq T_1.$$"
   ]
  },
  {
   "cell_type": "code",
   "execution_count": null,
   "metadata": {
    "collapsed": true
   },
   "outputs": [],
   "source": []
  }
 ],
 "metadata": {
  "anaconda-cloud": {},
  "kernelspec": {
   "display_name": "Python [default]",
   "language": "python",
   "name": "python3"
  },
  "language_info": {
   "codemirror_mode": {
    "name": "ipython",
    "version": 3
   },
   "file_extension": ".py",
   "mimetype": "text/x-python",
   "name": "python",
   "nbconvert_exporter": "python",
   "pygments_lexer": "ipython3",
   "version": "3.5.2"
  }
 },
 "nbformat": 4,
 "nbformat_minor": 1
}
