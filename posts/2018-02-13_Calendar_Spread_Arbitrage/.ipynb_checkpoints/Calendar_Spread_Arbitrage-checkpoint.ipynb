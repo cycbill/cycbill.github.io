{
 "cells": [
  {
   "cell_type": "markdown",
   "metadata": {},
   "source": [
    "# Calendar Spread Arbitrage"
   ]
  },
  {
   "cell_type": "markdown",
   "metadata": {},
   "source": [
    "The absence of arbitrage opportunities is a fundamental principle underlying the modern theory of financial asset pricing. In particular, this concept is intrinc to the statement of the First Fundamental theorem. In option market, market participants usually quote volatility "
   ]
  },
  {
   "cell_type": "markdown",
   "metadata": {},
   "source": [
    "By definition, a __calendar spread__ is a spread trade involving the simultaneous the purchase of an option expiring at a maturity and sales of the same instrument expiring at another maturity. Theoretically speaking, if market conditions are foreseeably constant (i.e. forward price, and volatility), for two option contracts whose contract features are exactly the same (i.e. call/put, strike) and only their maturities are different, the option with longer maturity is expected to be more expensive than the option with shorter maturity. This is because, while the shorter maturity option reaches expiry, the longer maturity option are still alive, and its Time Value gives it extra benefit on top of the payoff."
   ]
  },
  {
   "cell_type": "markdown",
   "metadata": {},
   "source": [
    "In option market, usually traders quote volatility instead of premium for options. The most important part job of the option market maker is to manage the volatility surface."
   ]
  },
  {
   "cell_type": "markdown",
   "metadata": {},
   "source": [
    "The calendar spread can be used to attempt to take advantage of a difference in the implied volatilities between two different maturities' options. Trader will ordinarily implement this strategy when the options bought have a distinctly lower implied volatility than the options sold (written)."
   ]
  },
  {
   "cell_type": "markdown",
   "metadata": {},
   "source": [
    "So from another perspective, calendar spread strategy is often used as a tool by both market practioner to check whether the implied volatility surface is free-of-arbitrage."
   ]
  },
  {
   "cell_type": "markdown",
   "metadata": {},
   "source": [
    "In this post, we will discuss about (1) a naive case of calendar spread arbitrage assuming constant forward market data, to intuitively illustrate the implementation of the arbitrage; (2) the more realistic case of calendar spread arbitrage assuming to review its necessary, and its sufficient conditions with volatiltiy surface structure; <font color='red'>and (3) how to hedge other sensitivities in the real arbitrage case</font>."
   ]
  },
  {
   "cell_type": "markdown",
   "metadata": {},
   "source": [
    "## 1. Naive Case of Calendar Spread Arbitrage"
   ]
  },
  {
   "cell_type": "markdown",
   "metadata": {},
   "source": [
    "The cash flow scenario of the calendar spread:\n",
    "\n",
    "| $t$ | $T_1$     | $T_2$     |\n",
    "|---|---|---|\n",
    "|  |  |  |\n",
    "|---|---|---|\n",
    "|  |  |  |"
   ]
  },
  {
   "cell_type": "markdown",
   "metadata": {},
   "source": [
    "<table style=\"width:50%\">\n",
    "  <tr>\n",
    "    <th>$t$</th>\n",
    "    <th>$T_1$</th> \n",
    "    <th>$T_2$</th>\n",
    "  </tr>\n",
    "  <tr>\n",
    "    <td>$-C_t(K,T_1)$</td>\n",
    "    <td>$+(S_{T_1}-K)^{+}$</td> \n",
    "    <td></td>\n",
    "  </tr>\n",
    "  <tr>\n",
    "    <td>$+C_t(K,T_2)$</td>\n",
    "    <td></td> \n",
    "    <td>$+(S_{T_2}-K)^{+}$</td>\n",
    "  </tr>\n",
    "</table>"
   ]
  },
  {
   "cell_type": "code",
   "execution_count": null,
   "metadata": {
    "collapsed": true
   },
   "outputs": [],
   "source": []
  }
 ],
 "metadata": {
  "kernelspec": {
   "display_name": "Python [Root]",
   "language": "python",
   "name": "Python [Root]"
  },
  "language_info": {
   "codemirror_mode": {
    "name": "ipython",
    "version": 3
   },
   "file_extension": ".py",
   "mimetype": "text/x-python",
   "name": "python",
   "nbconvert_exporter": "python",
   "pygments_lexer": "ipython3",
   "version": "3.5.2"
  }
 },
 "nbformat": 4,
 "nbformat_minor": 0
}
